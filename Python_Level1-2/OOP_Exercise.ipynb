{
 "cells": [
  {
   "cell_type": "code",
   "execution_count": 2,
   "metadata": {
    "collapsed": true
   },
   "outputs": [],
   "source": [
    "class Account():\n",
    "    \n",
    "    def __init__(self, owner, balance = 0):\n",
    "        self.owner = owner\n",
    "        self.balance = balance\n",
    "        \n",
    "    def __str__(self):\n",
    "        return f\"Account Owner: {self.owner}, Balace: {self.balance}\"\n",
    "    \n",
    "    def deposit(self, dep_amt):\n",
    "        self.balance = self.balance + dep_amt\n",
    "        print(\"Deposit was accepted!\")\n",
    "        \n",
    "    def withdrawal(self, wd_amt):\n",
    "        if self.balance >= wd_amt:\n",
    "            self.balance = self.balance - wd_amt\n",
    "            print(\"Withdrawal successful\")\n",
    "        else:\n",
    "            print(\"Funds not available\")\n",
    "            "
   ]
  },
  {
   "cell_type": "code",
   "execution_count": 12,
   "metadata": {},
   "outputs": [
    {
     "name": "stdout",
     "output_type": "stream",
     "text": [
      "Account Owner: Jose, Balace: 100\n",
      "Jose\n",
      "100\n",
      "Deposit was accepted!\n",
      "None\n",
      "Withdrawal successful\n",
      "None\n",
      "Funds not available\n"
     ]
    }
   ],
   "source": [
    "# 1. Insantiate the class\n",
    "\n",
    "acct1 = Account('Jose', 100)\n",
    "\n",
    "# 2. Print the object\n",
    "\n",
    "print(acct1)\n",
    "\n",
    "# 3. Show the account owner attribute\n",
    "\n",
    "print(acct1.owner)\n",
    "\n",
    "# 4. Show account balance attribute\n",
    "\n",
    "print(acct1.balance)\n",
    "\n",
    "# 5. Make a series of deposits and withdrawals\n",
    "print(acct1.deposit(50))\n",
    "\n",
    "print(acct1.withdrawal(75))\n",
    "\n",
    "# 6. Make a withdrawal that exceeds the available balance\n",
    "acct1.withdrawal(500)"
   ]
  },
  {
   "cell_type": "code",
   "execution_count": null,
   "metadata": {
    "collapsed": true
   },
   "outputs": [],
   "source": []
  }
 ],
 "metadata": {
  "kernelspec": {
   "display_name": "Python 3",
   "language": "python",
   "name": "python3"
  },
  "language_info": {
   "codemirror_mode": {
    "name": "ipython",
    "version": 3
   },
   "file_extension": ".py",
   "mimetype": "text/x-python",
   "name": "python",
   "nbconvert_exporter": "python",
   "pygments_lexer": "ipython3",
   "version": "3.6.3"
  }
 },
 "nbformat": 4,
 "nbformat_minor": 2
}
