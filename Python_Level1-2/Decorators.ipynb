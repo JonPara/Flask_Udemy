{
 "cells": [
  {
   "cell_type": "code",
   "execution_count": 11,
   "metadata": {
    "collapsed": true
   },
   "outputs": [],
   "source": [
    "def hello(name = 'Jose'):\n",
    "    print('the hello() func has been run')\n",
    "    \n",
    "    def greet():\n",
    "        return \" this is inside greet()\"\n",
    "    \n",
    "    def welcome():\n",
    "        return \"  this is inside welcome()\"\n",
    "    \n",
    "    if name == \"Jose\":\n",
    "        return greet\n",
    "    else:\n",
    "        return welcome"
   ]
  },
  {
   "cell_type": "code",
   "execution_count": 12,
   "metadata": {},
   "outputs": [
    {
     "name": "stdout",
     "output_type": "stream",
     "text": [
      "the hello() func has been run\n",
      "<function hello.<locals>.greet at 0x0000029A56088EA0>\n"
     ]
    }
   ],
   "source": [
    "print(hello())"
   ]
  },
  {
   "cell_type": "code",
   "execution_count": 13,
   "metadata": {},
   "outputs": [
    {
     "name": "stdout",
     "output_type": "stream",
     "text": [
      "the hello() func has been run\n"
     ]
    },
    {
     "data": {
      "text/plain": [
       "' this is inside greet()'"
      ]
     },
     "execution_count": 13,
     "metadata": {},
     "output_type": "execute_result"
    }
   ],
   "source": [
    "# Basically saying x is equal to greet\n",
    "\n",
    "x = hello()\n",
    "x()"
   ]
  },
  {
   "cell_type": "code",
   "execution_count": 14,
   "metadata": {},
   "outputs": [
    {
     "name": "stdout",
     "output_type": "stream",
     "text": [
      " this is inside greet()\n"
     ]
    }
   ],
   "source": [
    "print(x())"
   ]
  },
  {
   "cell_type": "code",
   "execution_count": 15,
   "metadata": {},
   "outputs": [
    {
     "name": "stdout",
     "output_type": "stream",
     "text": [
      "Some other code\n",
      "Hi Jose\n"
     ]
    }
   ],
   "source": [
    "def hello():\n",
    "    return \"Hi Jose\"\n",
    "\n",
    "def other(func):\n",
    "    print(\"Some other code\")\n",
    "    # Assume that func passed in is a function \n",
    "    print(func())\n",
    "    \n",
    "other(hello)"
   ]
  },
  {
   "cell_type": "code",
   "execution_count": 20,
   "metadata": {},
   "outputs": [
    {
     "name": "stdout",
     "output_type": "stream",
     "text": [
      "Other code would go here\n",
      "Hi Jose!\n"
     ]
    }
   ],
   "source": [
    "# Now lets see how we can pass functions as arguments into other functions:\n",
    "\n",
    "def hello():\n",
    "    return 'Hi Jose!'\n",
    "\n",
    "def other(func):\n",
    "    print ('Other code would go here')\n",
    "    print(func())\n",
    "\n",
    "other(hello)\n",
    "\n",
    "\n",
    "# Great! Note how we can pass the functions as objects and then use them within\n",
    "# other functions. Now we can get started with writing our first decorator:\n",
    "\n",
    "######################################\n",
    "# Creating a Decorator\n",
    "######################################\n",
    "\n",
    "# In the previous example we actually manually created a Decorator. Here we will\n",
    "# modify it to make its use case clear:\n",
    "\n",
    "def new_decorator(func):\n",
    "\n",
    "    def wrap_func():\n",
    "        print (\"Code would be here, before executing the func\")\n",
    "\n",
    "        func()\n",
    "\n",
    "        print (\"Code here will execute after the func()\")\n",
    "\n",
    "    return wrap_func"
   ]
  },
  {
   "cell_type": "code",
   "execution_count": null,
   "metadata": {
    "collapsed": true
   },
   "outputs": [],
   "source": []
  }
 ],
 "metadata": {
  "kernelspec": {
   "display_name": "Python 3",
   "language": "python",
   "name": "python3"
  },
  "language_info": {
   "codemirror_mode": {
    "name": "ipython",
    "version": 3
   },
   "file_extension": ".py",
   "mimetype": "text/x-python",
   "name": "python",
   "nbconvert_exporter": "python",
   "pygments_lexer": "ipython3",
   "version": "3.6.3"
  }
 },
 "nbformat": 4,
 "nbformat_minor": 2
}
