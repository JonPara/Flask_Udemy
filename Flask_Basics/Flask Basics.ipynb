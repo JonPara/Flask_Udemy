{
 "cells": [
  {
   "cell_type": "code",
   "execution_count": null,
   "metadata": {},
   "outputs": [],
   "source": [
    "from flask import Flask\n",
    "app = Flask(__name__)\n",
    "\n",
    "@app.route(\"/\")\n",
    "def index():\n",
    "    return '<h1>Hello Puppy!</h1>'\n",
    "\n",
    "@app.route(\"/information\") \n",
    "def info():\n",
    "    return \"<h1> Puppies are cute </h1>\"\n",
    "\n",
    "@app.route(\"/puppy/<name>\")\n",
    "def puppy(name):\n",
    "    return \"<h1>This is a page for {} </h1>.\".format(name)\n",
    "\n",
    "@app.route(\"/puppy_latin/<name>\")\n",
    "def puppylatin(name):\n",
    "    pupname = ''\n",
    "    \n",
    "    if name[-1] == 'y':\n",
    "        pupname = name[:-1] + 'iful'\n",
    "    else:\n",
    "        pupname = name + 'y'\n",
    "        \n",
    "    return \"<h1> Your puppy latin name is: {}\".format(pupname)\n",
    "\n",
    "\n",
    "if __name__ == '__main__':\n",
    "    app.run()"
   ]
  },
  {
   "cell_type": "code",
   "execution_count": null,
   "metadata": {
    "collapsed": true
   },
   "outputs": [],
   "source": []
  }
 ],
 "metadata": {
  "kernelspec": {
   "display_name": "Python 3",
   "language": "python",
   "name": "python3"
  },
  "language_info": {
   "codemirror_mode": {
    "name": "ipython",
    "version": 3
   },
   "file_extension": ".py",
   "mimetype": "text/x-python",
   "name": "python",
   "nbconvert_exporter": "python",
   "pygments_lexer": "ipython3",
   "version": "3.6.3"
  }
 },
 "nbformat": 4,
 "nbformat_minor": 2
}
