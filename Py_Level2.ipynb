{
 "cells": [
  {
   "cell_type": "code",
   "execution_count": 7,
   "metadata": {},
   "outputs": [
    {
     "name": "stdout",
     "output_type": "stream",
     "text": [
      "False\n",
      "True\n"
     ]
    }
   ],
   "source": [
    "#  Create a function that takes in two integers and returns\n",
    "## a Boolean True if their sum is 10, False if their sum is something else.\n",
    "\n",
    "def check_ten(n1,n2):\n",
    "    if (n1 + n2) == 10:\n",
    "        return True\n",
    "    else:\n",
    "        return False\n",
    "\n",
    "print(check_ten(6,5))\n",
    "print(check_ten(5,5))"
   ]
  },
  {
   "cell_type": "code",
   "execution_count": 11,
   "metadata": {},
   "outputs": [
    {
     "name": "stdout",
     "output_type": "stream",
     "text": [
      "11\n",
      "True\n"
     ]
    }
   ],
   "source": [
    "# Create a function that takes in two integers and returns True if their\n",
    "# sum is 10, otherwise, return the actual sum value.\n",
    "\n",
    "def check_ten_sum(n1,n2):\n",
    "    if n1 + n2 == 10:\n",
    "        return True\n",
    "    else:\n",
    "        return n1 + n2\n",
    "    \n",
    "print(check_ten_sum(6,5))\n",
    "print(check_ten_sum(5,5))"
   ]
  },
  {
   "cell_type": "code",
   "execution_count": 13,
   "metadata": {},
   "outputs": [
    {
     "data": {
      "text/plain": [
       "'T'"
      ]
     },
     "execution_count": 13,
     "metadata": {},
     "output_type": "execute_result"
    }
   ],
   "source": [
    "# Create a function that takes in a string and returns back the\n",
    "# first character of that string in upper case.\n",
    "\n",
    "\n",
    "\n",
    "def first_upper(mystring):\n",
    "    return mystring[0].upper()\n",
    "\n",
    "first_upper(\"this is a string\")"
   ]
  },
  {
   "cell_type": "code",
   "execution_count": 30,
   "metadata": {},
   "outputs": [
    {
     "name": "stdout",
     "output_type": "stream",
     "text": [
      "ng\n",
      "Error\n",
      "None\n"
     ]
    }
   ],
   "source": [
    "# Create a function that takes in a string and returns the last two characters.\n",
    "# If there are less than two chracters, return the string:  \"Error\".\n",
    "# Use this link if you need help/hint.\n",
    "# (https://stackoverflow.com/questions/7983820/get-the-last-4-characters-of-a-string)\n",
    "\n",
    "\n",
    "\n",
    "def last_two(mystring):\n",
    "\n",
    "    if len(mystring) < 2:\n",
    "        print(\"Error\")\n",
    "    else:\n",
    "         return mystring[-2:] \n",
    "        \n",
    "print(last_two(\"this is a string\"))\n",
    "print(last_two('a'))"
   ]
  },
  {
   "cell_type": "code",
   "execution_count": 32,
   "metadata": {
    "collapsed": true
   },
   "outputs": [],
   "source": [
    "# Given a list of integers, return True if the sequence [1,2,3] is somewhere\n",
    "# in the list. Hint: Use slicing and a for loop.\n",
    "\n",
    "\n",
    "\n",
    "def seq_check(nums):\n",
    "    \n",
    "    for i in range(len(nums) - 2):\n",
    "        if numns[i] == 1 and nums[i+1] == 2 and nums[i+2] ==3:\n",
    "            return True\n",
    "        return False"
   ]
  },
  {
   "cell_type": "code",
   "execution_count": 38,
   "metadata": {},
   "outputs": [
    {
     "data": {
      "text/plain": [
       "5"
      ]
     },
     "execution_count": 38,
     "metadata": {},
     "output_type": "execute_result"
    }
   ],
   "source": [
    "# ## Task 6\n",
    "#\n",
    "# Given a 2 strings, create a function that returns the difference in length\n",
    "# between them. This difference in length should always be a positive number\n",
    "# (or just 0). Hint: Absolute Value.**\n",
    "\n",
    "\n",
    "\n",
    "def compare_len(s1,s2):\n",
    "    return len(s1) - len(s2)\n",
    "\n",
    "s1 = \"This is a string\"\n",
    "s2 = \"This is also a string\"\n",
    "\n",
    "compare_len(s1, s2)"
   ]
  },
  {
   "cell_type": "code",
   "execution_count": null,
   "metadata": {
    "collapsed": true
   },
   "outputs": [],
   "source": []
  }
 ],
 "metadata": {
  "kernelspec": {
   "display_name": "Python 3",
   "language": "python",
   "name": "python3"
  },
  "language_info": {
   "codemirror_mode": {
    "name": "ipython",
    "version": 3
   },
   "file_extension": ".py",
   "mimetype": "text/x-python",
   "name": "python",
   "nbconvert_exporter": "python",
   "pygments_lexer": "ipython3",
   "version": "3.6.3"
  }
 },
 "nbformat": 4,
 "nbformat_minor": 2
}
